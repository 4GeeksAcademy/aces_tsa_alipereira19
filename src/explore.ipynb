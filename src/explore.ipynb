{
    "cells": [
        {
            "cell_type": "markdown",
            "metadata": {},
            "source": [
                "# Explore here"
            ]
        },
        {
            "cell_type": "code",
            "execution_count": 1,
            "metadata": {},
            "outputs": [
                {
                    "name": "stdout",
                    "output_type": "stream",
                    "text": [
                        "<class 'pandas.core.frame.DataFrame'>\n",
                        "RangeIndex: 8217 entries, 0 to 8216\n",
                        "Data columns (total 17 columns):\n",
                        " #   Column                     Non-Null Count  Dtype  \n",
                        "---  ------                     --------------  -----  \n",
                        " 0   Date                       8217 non-null   object \n",
                        " 1   Rainfall_Le_Croci          6026 non-null   float64\n",
                        " 2   Rainfall_Cavallina         6026 non-null   float64\n",
                        " 3   Rainfall_S_Agata           6026 non-null   float64\n",
                        " 4   Rainfall_Mangona           6026 non-null   float64\n",
                        " 5   Rainfall_S_Piero           6026 non-null   float64\n",
                        " 6   Rainfall_Vernio            4283 non-null   float64\n",
                        " 7   Rainfall_Stia              1283 non-null   float64\n",
                        " 8   Rainfall_Consuma           1283 non-null   float64\n",
                        " 9   Rainfall_Incisa            4568 non-null   float64\n",
                        " 10  Rainfall_Montevarchi       1647 non-null   float64\n",
                        " 11  Rainfall_S_Savino          1283 non-null   float64\n",
                        " 12  Rainfall_Laterina          1283 non-null   float64\n",
                        " 13  Rainfall_Bibbiena          2378 non-null   float64\n",
                        " 14  Rainfall_Camaldoli         1283 non-null   float64\n",
                        " 15  Temperature_Firenze        6192 non-null   float64\n",
                        " 16  Hydrometry_Nave_di_Rosano  8169 non-null   float64\n",
                        "dtypes: float64(16), object(1)\n",
                        "memory usage: 1.1+ MB\n"
                    ]
                }
            ],
            "source": [
                "# Your code here\n",
                "import pandas as pd\n",
                "\n",
                "df = pd.read_csv('../data/raw/River_Arno.csv')\n",
                "\n",
                "df.info()"
            ]
        },
        {
            "cell_type": "code",
            "execution_count": 2,
            "metadata": {},
            "outputs": [
                {
                    "data": {
                        "text/html": [
                            "<div>\n",
                            "<style scoped>\n",
                            "    .dataframe tbody tr th:only-of-type {\n",
                            "        vertical-align: middle;\n",
                            "    }\n",
                            "\n",
                            "    .dataframe tbody tr th {\n",
                            "        vertical-align: top;\n",
                            "    }\n",
                            "\n",
                            "    .dataframe thead th {\n",
                            "        text-align: right;\n",
                            "    }\n",
                            "</style>\n",
                            "<table border=\"1\" class=\"dataframe\">\n",
                            "  <thead>\n",
                            "    <tr style=\"text-align: right;\">\n",
                            "      <th></th>\n",
                            "      <th>Hyd</th>\n",
                            "    </tr>\n",
                            "    <tr>\n",
                            "      <th>Date</th>\n",
                            "      <th></th>\n",
                            "    </tr>\n",
                            "  </thead>\n",
                            "  <tbody>\n",
                            "    <tr>\n",
                            "      <th>1998-01-01</th>\n",
                            "      <td>1.82</td>\n",
                            "    </tr>\n",
                            "    <tr>\n",
                            "      <th>1998-01-02</th>\n",
                            "      <td>1.94</td>\n",
                            "    </tr>\n",
                            "    <tr>\n",
                            "      <th>1998-01-03</th>\n",
                            "      <td>2.11</td>\n",
                            "    </tr>\n",
                            "    <tr>\n",
                            "      <th>1998-01-04</th>\n",
                            "      <td>1.84</td>\n",
                            "    </tr>\n",
                            "    <tr>\n",
                            "      <th>1998-01-05</th>\n",
                            "      <td>1.88</td>\n",
                            "    </tr>\n",
                            "    <tr>\n",
                            "      <th>...</th>\n",
                            "      <td>...</td>\n",
                            "    </tr>\n",
                            "    <tr>\n",
                            "      <th>2020-06-26</th>\n",
                            "      <td>1.34</td>\n",
                            "    </tr>\n",
                            "    <tr>\n",
                            "      <th>2020-06-27</th>\n",
                            "      <td>1.21</td>\n",
                            "    </tr>\n",
                            "    <tr>\n",
                            "      <th>2020-06-28</th>\n",
                            "      <td>1.30</td>\n",
                            "    </tr>\n",
                            "    <tr>\n",
                            "      <th>2020-06-29</th>\n",
                            "      <td>1.19</td>\n",
                            "    </tr>\n",
                            "    <tr>\n",
                            "      <th>2020-06-30</th>\n",
                            "      <td>1.30</td>\n",
                            "    </tr>\n",
                            "  </tbody>\n",
                            "</table>\n",
                            "<p>8217 rows × 1 columns</p>\n",
                            "</div>"
                        ],
                        "text/plain": [
                            "             Hyd\n",
                            "Date            \n",
                            "1998-01-01  1.82\n",
                            "1998-01-02  1.94\n",
                            "1998-01-03  2.11\n",
                            "1998-01-04  1.84\n",
                            "1998-01-05  1.88\n",
                            "...          ...\n",
                            "2020-06-26  1.34\n",
                            "2020-06-27  1.21\n",
                            "2020-06-28  1.30\n",
                            "2020-06-29  1.19\n",
                            "2020-06-30  1.30\n",
                            "\n",
                            "[8217 rows x 1 columns]"
                        ]
                    },
                    "execution_count": 2,
                    "metadata": {},
                    "output_type": "execute_result"
                }
            ],
            "source": [
                "ts = pd.DataFrame()\n",
                "ts['Date'] = pd.to_datetime(df['Date'], format=\"%d/%m/%Y\")\n",
                "ts['Hyd']= df['Hydrometry_Nave_di_Rosano']\n",
                "ts.index = ts['Date']\n",
                "ts.drop(columns='Date',axis=1, inplace=True)\n",
                "\n",
                "ts"
            ]
        },
        {
            "cell_type": "code",
            "execution_count": 3,
            "metadata": {},
            "outputs": [
                {
                    "data": {
                        "text/plain": [
                            "Hyd    48\n",
                            "dtype: int64"
                        ]
                    },
                    "execution_count": 3,
                    "metadata": {},
                    "output_type": "execute_result"
                }
            ],
            "source": [
                "ts.isnull().sum()"
            ]
        },
        {
            "cell_type": "code",
            "execution_count": 4,
            "metadata": {},
            "outputs": [
                {
                    "data": {
                        "text/plain": [
                            "Hyd    0\n",
                            "dtype: int64"
                        ]
                    },
                    "execution_count": 4,
                    "metadata": {},
                    "output_type": "execute_result"
                }
            ],
            "source": [
                "ts = ts.interpolate(method='linear')\n",
                "ts.isnull().sum()"
            ]
        },
        {
            "cell_type": "code",
            "execution_count": 5,
            "metadata": {},
            "outputs": [
                {
                    "name": "stdout",
                    "output_type": "stream",
                    "text": [
                        "Defaulting to user installation because normal site-packages is not writeable\n",
                        "Requirement already satisfied: statsmodels in /home/vscode/.local/lib/python3.11/site-packages (0.14.5)\n",
                        "Requirement already satisfied: numpy<3,>=1.22.3 in /home/vscode/.local/lib/python3.11/site-packages (from statsmodels) (1.26.4)\n",
                        "Requirement already satisfied: scipy!=1.9.2,>=1.8 in /home/vscode/.local/lib/python3.11/site-packages (from statsmodels) (1.15.3)\n",
                        "Requirement already satisfied: pandas!=2.1.0,>=1.4 in /home/vscode/.local/lib/python3.11/site-packages (from statsmodels) (2.3.1)\n",
                        "Requirement already satisfied: patsy>=0.5.6 in /home/vscode/.local/lib/python3.11/site-packages (from statsmodels) (1.0.1)\n",
                        "Requirement already satisfied: packaging>=21.3 in /home/vscode/.local/lib/python3.11/site-packages (from statsmodels) (25.0)\n",
                        "Requirement already satisfied: python-dateutil>=2.8.2 in /home/vscode/.local/lib/python3.11/site-packages (from pandas!=2.1.0,>=1.4->statsmodels) (2.9.0.post0)\n",
                        "Requirement already satisfied: pytz>=2020.1 in /home/vscode/.local/lib/python3.11/site-packages (from pandas!=2.1.0,>=1.4->statsmodels) (2025.2)\n",
                        "Requirement already satisfied: tzdata>=2022.7 in /home/vscode/.local/lib/python3.11/site-packages (from pandas!=2.1.0,>=1.4->statsmodels) (2025.2)\n",
                        "Requirement already satisfied: six>=1.5 in /home/vscode/.local/lib/python3.11/site-packages (from python-dateutil>=2.8.2->pandas!=2.1.0,>=1.4->statsmodels) (1.17.0)\n",
                        "\n",
                        "\u001b[1m[\u001b[0m\u001b[34;49mnotice\u001b[0m\u001b[1;39;49m]\u001b[0m\u001b[39;49m A new release of pip is available: \u001b[0m\u001b[31;49m23.1.2\u001b[0m\u001b[39;49m -> \u001b[0m\u001b[32;49m25.2\u001b[0m\n",
                        "\u001b[1m[\u001b[0m\u001b[34;49mnotice\u001b[0m\u001b[1;39;49m]\u001b[0m\u001b[39;49m To update, run: \u001b[0m\u001b[32;49mpip install --upgrade pip\u001b[0m\n"
                    ]
                }
            ],
            "source": [
                "!pip install statsmodels"
            ]
        },
        {
            "cell_type": "code",
            "execution_count": 6,
            "metadata": {},
            "outputs": [
                {
                    "data": {
                        "image/png": "[encoded data removed]",
                        "text/plain": [
                            "<Figure size 640x480 with 1 Axes>"
                        ]
                    },
                    "metadata": {},
                    "output_type": "display_data"
                }
            ],
            "source": [
                "from statsmodels.tsa.seasonal import seasonal_decompose\n",
                "\n",
                "decomp = seasonal_decompose(ts, period = 365)\n",
                "\n",
                "trend = decomp.trend\n",
                "seasonal = decomp.seasonal\n",
                "\n",
                "import matplotlib.pyplot as plt\n",
                "import seaborn as sns\n",
                "\n",
                "sns.lineplot(data=ts, x = ts.index, y = ts.Hyd,label=\"Hidrometría\")\n",
                "sns.lineplot(data = trend, label=\"Tendencia\")\n",
                "sns.lineplot(data=seasonal,label=\"Estacionalidad\")\n",
                "\n",
                "plt.tight_layout()\n",
                "plt.show()"
            ]
        },
        {
            "cell_type": "code",
            "execution_count": 7,
            "metadata": {},
            "outputs": [
                {
                    "name": "stdout",
                    "output_type": "stream",
                    "text": [
                        "Resultados de la prueba de Dickey-Fuller:\n"
                    ]
                },
                {
                    "data": {
                        "text/plain": [
                            "Test Statistic                -7.825536e+00\n",
                            "p-value                        6.496928e-12\n",
                            "#Lags Used                     3.700000e+01\n",
                            "Number of Observations Used    8.179000e+03\n",
                            "Critical Value (1%)           -3.431150e+00\n",
                            "Critical Value (5%)           -2.861893e+00\n",
                            "Critical Value (10%)          -2.566958e+00\n",
                            "dtype: float64"
                        ]
                    },
                    "execution_count": 7,
                    "metadata": {},
                    "output_type": "execute_result"
                }
            ],
            "source": [
                "from statsmodels.tsa.stattools import adfuller\n",
                "\n",
                "def test_stationarity(timeseries):\n",
                "    print(\"Resultados de la prueba de Dickey-Fuller:\")\n",
                "    dftest = adfuller(timeseries, autolag = \"AIC\")\n",
                "    dfoutput = pd.Series(dftest[0:4], index = [\"Test Statistic\", \"p-value\", \"#Lags Used\", \"Number of Observations Used\"])\n",
                "    for key,value in dftest[4].items():\n",
                "        dfoutput[\"Critical Value (%s)\"%key] = value\n",
                "    return dfoutput\n",
                "\n",
                "test_stationarity(ts)"
            ]
        },
        {
            "cell_type": "code",
            "execution_count": 8,
            "metadata": {},
            "outputs": [
                {
                    "data": {
                        "image/png": "[encoded data removed]",
                        "text/plain": [
                            "<Figure size 640x480 with 1 Axes>"
                        ]
                    },
                    "metadata": {},
                    "output_type": "display_data"
                }
            ],
            "source": [
                "from statsmodels.graphics.tsaplots import plot_acf\n",
                "\n",
                "plot_acf(ts)\n",
                "\n",
                "plt.tight_layout()\n",
                "plt.show()\n"
            ]
        },
        {
            "cell_type": "code",
            "execution_count": 9,
            "metadata": {},
            "outputs": [
                {
                    "name": "stdout",
                    "output_type": "stream",
                    "text": [
                        "Defaulting to user installation because normal site-packages is not writeable\n",
                        "Requirement already satisfied: pmdarima in /home/vscode/.local/lib/python3.11/site-packages (2.0.4)\n",
                        "Requirement already satisfied: joblib>=0.11 in /home/vscode/.local/lib/python3.11/site-packages (from pmdarima) (1.5.1)\n",
                        "Requirement already satisfied: Cython!=0.29.18,!=0.29.31,>=0.29 in /home/vscode/.local/lib/python3.11/site-packages (from pmdarima) (3.1.2)\n",
                        "Requirement already satisfied: numpy>=1.21.2 in /home/vscode/.local/lib/python3.11/site-packages (from pmdarima) (1.26.4)\n",
                        "Requirement already satisfied: pandas>=0.19 in /home/vscode/.local/lib/python3.11/site-packages (from pmdarima) (2.3.1)\n",
                        "Requirement already satisfied: scikit-learn>=0.22 in /home/vscode/.local/lib/python3.11/site-packages (from pmdarima) (1.7.1)\n",
                        "Requirement already satisfied: scipy>=1.3.2 in /home/vscode/.local/lib/python3.11/site-packages (from pmdarima) (1.15.3)\n",
                        "Requirement already satisfied: statsmodels>=0.13.2 in /home/vscode/.local/lib/python3.11/site-packages (from pmdarima) (0.14.5)\n",
                        "Requirement already satisfied: urllib3 in /home/vscode/.local/lib/python3.11/site-packages (from pmdarima) (2.5.0)\n",
                        "Requirement already satisfied: setuptools!=50.0.0,>=38.6.0 in /usr/local/lib/python3.11/site-packages (from pmdarima) (67.8.0)\n",
                        "Requirement already satisfied: packaging>=17.1 in /home/vscode/.local/lib/python3.11/site-packages (from pmdarima) (25.0)\n",
                        "Requirement already satisfied: python-dateutil>=2.8.2 in /home/vscode/.local/lib/python3.11/site-packages (from pandas>=0.19->pmdarima) (2.9.0.post0)\n",
                        "Requirement already satisfied: pytz>=2020.1 in /home/vscode/.local/lib/python3.11/site-packages (from pandas>=0.19->pmdarima) (2025.2)\n",
                        "Requirement already satisfied: tzdata>=2022.7 in /home/vscode/.local/lib/python3.11/site-packages (from pandas>=0.19->pmdarima) (2025.2)\n",
                        "Requirement already satisfied: threadpoolctl>=3.1.0 in /home/vscode/.local/lib/python3.11/site-packages (from scikit-learn>=0.22->pmdarima) (3.6.0)\n",
                        "Requirement already satisfied: patsy>=0.5.6 in /home/vscode/.local/lib/python3.11/site-packages (from statsmodels>=0.13.2->pmdarima) (1.0.1)\n",
                        "Requirement already satisfied: six>=1.5 in /home/vscode/.local/lib/python3.11/site-packages (from python-dateutil>=2.8.2->pandas>=0.19->pmdarima) (1.17.0)\n",
                        "\n",
                        "\u001b[1m[\u001b[0m\u001b[34;49mnotice\u001b[0m\u001b[1;39;49m]\u001b[0m\u001b[39;49m A new release of pip is available: \u001b[0m\u001b[31;49m23.1.2\u001b[0m\u001b[39;49m -> \u001b[0m\u001b[32;49m25.2\u001b[0m\n",
                        "\u001b[1m[\u001b[0m\u001b[34;49mnotice\u001b[0m\u001b[1;39;49m]\u001b[0m\u001b[39;49m To update, run: \u001b[0m\u001b[32;49mpip install --upgrade pip\u001b[0m\n"
                    ]
                }
            ],
            "source": [
                "!pip install pmdarima"
            ]
        },
        {
            "cell_type": "code",
            "execution_count": 10,
            "metadata": {},
            "outputs": [
                {
                    "name": "stderr",
                    "output_type": "stream",
                    "text": [
                        "/home/vscode/.local/lib/python3.11/site-packages/sklearn/utils/deprecation.py:132: FutureWarning: 'force_all_finite' was renamed to 'ensure_all_finite' in 1.6 and will be removed in 1.8.\n",
                        "  warnings.warn(\n",
                        "/home/vscode/.local/lib/python3.11/site-packages/sklearn/utils/deprecation.py:132: FutureWarning: 'force_all_finite' was renamed to 'ensure_all_finite' in 1.6 and will be removed in 1.8.\n",
                        "  warnings.warn(\n",
                        "/home/vscode/.local/lib/python3.11/site-packages/sklearn/utils/deprecation.py:132: FutureWarning: 'force_all_finite' was renamed to 'ensure_all_finite' in 1.6 and will be removed in 1.8.\n",
                        "  warnings.warn(\n",
                        "/home/vscode/.local/lib/python3.11/site-packages/sklearn/utils/deprecation.py:132: FutureWarning: 'force_all_finite' was renamed to 'ensure_all_finite' in 1.6 and will be removed in 1.8.\n",
                        "  warnings.warn(\n",
                        "/home/vscode/.local/lib/python3.11/site-packages/sklearn/utils/deprecation.py:132: FutureWarning: 'force_all_finite' was renamed to 'ensure_all_finite' in 1.6 and will be removed in 1.8.\n",
                        "  warnings.warn(\n",
                        "/home/vscode/.local/lib/python3.11/site-packages/sklearn/utils/deprecation.py:132: FutureWarning: 'force_all_finite' was renamed to 'ensure_all_finite' in 1.6 and will be removed in 1.8.\n",
                        "  warnings.warn(\n",
                        "/home/vscode/.local/lib/python3.11/site-packages/sklearn/utils/deprecation.py:132: FutureWarning: 'force_all_finite' was renamed to 'ensure_all_finite' in 1.6 and will be removed in 1.8.\n",
                        "  warnings.warn(\n",
                        "/home/vscode/.local/lib/python3.11/site-packages/sklearn/utils/deprecation.py:132: FutureWarning: 'force_all_finite' was renamed to 'ensure_all_finite' in 1.6 and will be removed in 1.8.\n",
                        "  warnings.warn(\n",
                        "/home/vscode/.local/lib/python3.11/site-packages/sklearn/utils/deprecation.py:132: FutureWarning: 'force_all_finite' was renamed to 'ensure_all_finite' in 1.6 and will be removed in 1.8.\n",
                        "  warnings.warn(\n",
                        "/home/vscode/.local/lib/python3.11/site-packages/sklearn/utils/deprecation.py:132: FutureWarning: 'force_all_finite' was renamed to 'ensure_all_finite' in 1.6 and will be removed in 1.8.\n",
                        "  warnings.warn(\n",
                        "/home/vscode/.local/lib/python3.11/site-packages/sklearn/utils/deprecation.py:132: FutureWarning: 'force_all_finite' was renamed to 'ensure_all_finite' in 1.6 and will be removed in 1.8.\n",
                        "  warnings.warn(\n"
                    ]
                },
                {
                    "name": "stdout",
                    "output_type": "stream",
                    "text": [
                        "Performing stepwise search to minimize aic\n",
                        " ARIMA(2,1,2)(1,0,1)[3] intercept   : AIC=2136.652, Time=11.94 sec\n"
                    ]
                },
                {
                    "name": "stderr",
                    "output_type": "stream",
                    "text": [
                        "/home/vscode/.local/lib/python3.11/site-packages/sklearn/utils/deprecation.py:132: FutureWarning: 'force_all_finite' was renamed to 'ensure_all_finite' in 1.6 and will be removed in 1.8.\n",
                        "  warnings.warn(\n"
                    ]
                },
                {
                    "name": "stdout",
                    "output_type": "stream",
                    "text": [
                        " ARIMA(0,1,0)(0,0,0)[3] intercept   : AIC=2914.101, Time=0.59 sec\n"
                    ]
                },
                {
                    "name": "stderr",
                    "output_type": "stream",
                    "text": [
                        "/home/vscode/.local/lib/python3.11/site-packages/sklearn/utils/deprecation.py:132: FutureWarning: 'force_all_finite' was renamed to 'ensure_all_finite' in 1.6 and will be removed in 1.8.\n",
                        "  warnings.warn(\n"
                    ]
                },
                {
                    "name": "stdout",
                    "output_type": "stream",
                    "text": [
                        " ARIMA(1,1,0)(1,0,0)[3] intercept   : AIC=2816.290, Time=1.59 sec\n"
                    ]
                },
                {
                    "name": "stderr",
                    "output_type": "stream",
                    "text": [
                        "/home/vscode/.local/lib/python3.11/site-packages/sklearn/utils/deprecation.py:132: FutureWarning: 'force_all_finite' was renamed to 'ensure_all_finite' in 1.6 and will be removed in 1.8.\n",
                        "  warnings.warn(\n"
                    ]
                },
                {
                    "name": "stdout",
                    "output_type": "stream",
                    "text": [
                        " ARIMA(0,1,1)(0,0,1)[3] intercept   : AIC=2796.251, Time=1.85 sec\n"
                    ]
                },
                {
                    "name": "stderr",
                    "output_type": "stream",
                    "text": [
                        "/home/vscode/.local/lib/python3.11/site-packages/sklearn/utils/deprecation.py:132: FutureWarning: 'force_all_finite' was renamed to 'ensure_all_finite' in 1.6 and will be removed in 1.8.\n",
                        "  warnings.warn(\n"
                    ]
                },
                {
                    "name": "stdout",
                    "output_type": "stream",
                    "text": [
                        " ARIMA(0,1,0)(0,0,0)[3]             : AIC=2912.102, Time=0.35 sec\n"
                    ]
                },
                {
                    "name": "stderr",
                    "output_type": "stream",
                    "text": [
                        "/home/vscode/.local/lib/python3.11/site-packages/sklearn/utils/deprecation.py:132: FutureWarning: 'force_all_finite' was renamed to 'ensure_all_finite' in 1.6 and will be removed in 1.8.\n",
                        "  warnings.warn(\n"
                    ]
                },
                {
                    "name": "stdout",
                    "output_type": "stream",
                    "text": [
                        " ARIMA(2,1,2)(0,0,1)[3] intercept   : AIC=2110.519, Time=12.21 sec\n"
                    ]
                },
                {
                    "name": "stderr",
                    "output_type": "stream",
                    "text": [
                        "/home/vscode/.local/lib/python3.11/site-packages/sklearn/utils/deprecation.py:132: FutureWarning: 'force_all_finite' was renamed to 'ensure_all_finite' in 1.6 and will be removed in 1.8.\n",
                        "  warnings.warn(\n"
                    ]
                },
                {
                    "name": "stdout",
                    "output_type": "stream",
                    "text": [
                        " ARIMA(2,1,2)(0,0,0)[3] intercept   : AIC=2108.485, Time=7.25 sec\n"
                    ]
                },
                {
                    "name": "stderr",
                    "output_type": "stream",
                    "text": [
                        "/home/vscode/.local/lib/python3.11/site-packages/sklearn/utils/deprecation.py:132: FutureWarning: 'force_all_finite' was renamed to 'ensure_all_finite' in 1.6 and will be removed in 1.8.\n",
                        "  warnings.warn(\n"
                    ]
                },
                {
                    "name": "stdout",
                    "output_type": "stream",
                    "text": [
                        " ARIMA(2,1,2)(1,0,0)[3] intercept   : AIC=2110.520, Time=9.08 sec\n"
                    ]
                },
                {
                    "name": "stderr",
                    "output_type": "stream",
                    "text": [
                        "/home/vscode/.local/lib/python3.11/site-packages/sklearn/utils/deprecation.py:132: FutureWarning: 'force_all_finite' was renamed to 'ensure_all_finite' in 1.6 and will be removed in 1.8.\n",
                        "  warnings.warn(\n"
                    ]
                },
                {
                    "name": "stdout",
                    "output_type": "stream",
                    "text": [
                        " ARIMA(1,1,2)(0,0,0)[3] intercept   : AIC=2106.713, Time=4.75 sec\n"
                    ]
                },
                {
                    "name": "stderr",
                    "output_type": "stream",
                    "text": [
                        "/home/vscode/.local/lib/python3.11/site-packages/sklearn/utils/deprecation.py:132: FutureWarning: 'force_all_finite' was renamed to 'ensure_all_finite' in 1.6 and will be removed in 1.8.\n",
                        "  warnings.warn(\n"
                    ]
                },
                {
                    "name": "stdout",
                    "output_type": "stream",
                    "text": [
                        " ARIMA(1,1,2)(1,0,0)[3] intercept   : AIC=2108.278, Time=6.63 sec\n"
                    ]
                },
                {
                    "name": "stderr",
                    "output_type": "stream",
                    "text": [
                        "/home/vscode/.local/lib/python3.11/site-packages/sklearn/utils/deprecation.py:132: FutureWarning: 'force_all_finite' was renamed to 'ensure_all_finite' in 1.6 and will be removed in 1.8.\n",
                        "  warnings.warn(\n"
                    ]
                },
                {
                    "name": "stdout",
                    "output_type": "stream",
                    "text": [
                        " ARIMA(1,1,2)(0,0,1)[3] intercept   : AIC=2108.278, Time=8.06 sec\n"
                    ]
                },
                {
                    "name": "stderr",
                    "output_type": "stream",
                    "text": [
                        "/home/vscode/.local/lib/python3.11/site-packages/sklearn/utils/deprecation.py:132: FutureWarning: 'force_all_finite' was renamed to 'ensure_all_finite' in 1.6 and will be removed in 1.8.\n",
                        "  warnings.warn(\n"
                    ]
                },
                {
                    "name": "stdout",
                    "output_type": "stream",
                    "text": [
                        " ARIMA(1,1,2)(1,0,1)[3] intercept   : AIC=2110.378, Time=7.89 sec\n"
                    ]
                },
                {
                    "name": "stderr",
                    "output_type": "stream",
                    "text": [
                        "/home/vscode/.local/lib/python3.11/site-packages/sklearn/utils/deprecation.py:132: FutureWarning: 'force_all_finite' was renamed to 'ensure_all_finite' in 1.6 and will be removed in 1.8.\n",
                        "  warnings.warn(\n"
                    ]
                },
                {
                    "name": "stdout",
                    "output_type": "stream",
                    "text": [
                        " ARIMA(0,1,2)(0,0,0)[3] intercept   : AIC=2534.854, Time=2.52 sec\n"
                    ]
                },
                {
                    "name": "stderr",
                    "output_type": "stream",
                    "text": [
                        "/home/vscode/.local/lib/python3.11/site-packages/sklearn/utils/deprecation.py:132: FutureWarning: 'force_all_finite' was renamed to 'ensure_all_finite' in 1.6 and will be removed in 1.8.\n",
                        "  warnings.warn(\n"
                    ]
                },
                {
                    "name": "stdout",
                    "output_type": "stream",
                    "text": [
                        " ARIMA(1,1,1)(0,0,0)[3] intercept   : AIC=2247.525, Time=5.62 sec\n"
                    ]
                },
                {
                    "name": "stderr",
                    "output_type": "stream",
                    "text": [
                        "/home/vscode/.local/lib/python3.11/site-packages/sklearn/utils/deprecation.py:132: FutureWarning: 'force_all_finite' was renamed to 'ensure_all_finite' in 1.6 and will be removed in 1.8.\n",
                        "  warnings.warn(\n"
                    ]
                },
                {
                    "name": "stdout",
                    "output_type": "stream",
                    "text": [
                        " ARIMA(0,1,1)(0,0,0)[3] intercept   : AIC=2912.583, Time=0.91 sec\n"
                    ]
                },
                {
                    "name": "stderr",
                    "output_type": "stream",
                    "text": [
                        "/home/vscode/.local/lib/python3.11/site-packages/sklearn/utils/deprecation.py:132: FutureWarning: 'force_all_finite' was renamed to 'ensure_all_finite' in 1.6 and will be removed in 1.8.\n",
                        "  warnings.warn(\n"
                    ]
                },
                {
                    "name": "stdout",
                    "output_type": "stream",
                    "text": [
                        " ARIMA(2,1,1)(0,0,0)[3] intercept   : AIC=2112.645, Time=3.45 sec\n"
                    ]
                },
                {
                    "name": "stderr",
                    "output_type": "stream",
                    "text": [
                        "/home/vscode/.local/lib/python3.11/site-packages/sklearn/utils/deprecation.py:132: FutureWarning: 'force_all_finite' was renamed to 'ensure_all_finite' in 1.6 and will be removed in 1.8.\n",
                        "  warnings.warn(\n"
                    ]
                },
                {
                    "name": "stdout",
                    "output_type": "stream",
                    "text": [
                        " ARIMA(1,1,2)(0,0,0)[3]             : AIC=2104.717, Time=1.43 sec\n"
                    ]
                },
                {
                    "name": "stderr",
                    "output_type": "stream",
                    "text": [
                        "/home/vscode/.local/lib/python3.11/site-packages/sklearn/utils/deprecation.py:132: FutureWarning: 'force_all_finite' was renamed to 'ensure_all_finite' in 1.6 and will be removed in 1.8.\n",
                        "  warnings.warn(\n"
                    ]
                },
                {
                    "name": "stdout",
                    "output_type": "stream",
                    "text": [
                        " ARIMA(1,1,2)(1,0,0)[3]             : AIC=2106.282, Time=1.93 sec\n"
                    ]
                },
                {
                    "name": "stderr",
                    "output_type": "stream",
                    "text": [
                        "/home/vscode/.local/lib/python3.11/site-packages/sklearn/utils/deprecation.py:132: FutureWarning: 'force_all_finite' was renamed to 'ensure_all_finite' in 1.6 and will be removed in 1.8.\n",
                        "  warnings.warn(\n"
                    ]
                },
                {
                    "name": "stdout",
                    "output_type": "stream",
                    "text": [
                        " ARIMA(1,1,2)(0,0,1)[3]             : AIC=2106.282, Time=2.09 sec\n"
                    ]
                },
                {
                    "name": "stderr",
                    "output_type": "stream",
                    "text": [
                        "/home/vscode/.local/lib/python3.11/site-packages/sklearn/utils/deprecation.py:132: FutureWarning: 'force_all_finite' was renamed to 'ensure_all_finite' in 1.6 and will be removed in 1.8.\n",
                        "  warnings.warn(\n"
                    ]
                },
                {
                    "name": "stdout",
                    "output_type": "stream",
                    "text": [
                        " ARIMA(1,1,2)(1,0,1)[3]             : AIC=2108.389, Time=2.57 sec\n"
                    ]
                },
                {
                    "name": "stderr",
                    "output_type": "stream",
                    "text": [
                        "/home/vscode/.local/lib/python3.11/site-packages/sklearn/utils/deprecation.py:132: FutureWarning: 'force_all_finite' was renamed to 'ensure_all_finite' in 1.6 and will be removed in 1.8.\n",
                        "  warnings.warn(\n"
                    ]
                },
                {
                    "name": "stdout",
                    "output_type": "stream",
                    "text": [
                        " ARIMA(0,1,2)(0,0,0)[3]             : AIC=2532.856, Time=0.54 sec\n"
                    ]
                },
                {
                    "name": "stderr",
                    "output_type": "stream",
                    "text": [
                        "/home/vscode/.local/lib/python3.11/site-packages/sklearn/utils/deprecation.py:132: FutureWarning: 'force_all_finite' was renamed to 'ensure_all_finite' in 1.6 and will be removed in 1.8.\n",
                        "  warnings.warn(\n"
                    ]
                },
                {
                    "name": "stdout",
                    "output_type": "stream",
                    "text": [
                        " ARIMA(1,1,1)(0,0,0)[3]             : AIC=2245.530, Time=0.89 sec\n"
                    ]
                },
                {
                    "name": "stderr",
                    "output_type": "stream",
                    "text": [
                        "/home/vscode/.local/lib/python3.11/site-packages/sklearn/utils/deprecation.py:132: FutureWarning: 'force_all_finite' was renamed to 'ensure_all_finite' in 1.6 and will be removed in 1.8.\n",
                        "  warnings.warn(\n"
                    ]
                },
                {
                    "name": "stdout",
                    "output_type": "stream",
                    "text": [
                        " ARIMA(2,1,2)(0,0,0)[3]             : AIC=2106.488, Time=1.25 sec\n"
                    ]
                },
                {
                    "name": "stderr",
                    "output_type": "stream",
                    "text": [
                        "/home/vscode/.local/lib/python3.11/site-packages/sklearn/utils/deprecation.py:132: FutureWarning: 'force_all_finite' was renamed to 'ensure_all_finite' in 1.6 and will be removed in 1.8.\n",
                        "  warnings.warn(\n"
                    ]
                },
                {
                    "name": "stdout",
                    "output_type": "stream",
                    "text": [
                        " ARIMA(0,1,1)(0,0,0)[3]             : AIC=2910.583, Time=1.00 sec\n"
                    ]
                },
                {
                    "name": "stderr",
                    "output_type": "stream",
                    "text": [
                        "/home/vscode/.local/lib/python3.11/site-packages/sklearn/utils/deprecation.py:132: FutureWarning: 'force_all_finite' was renamed to 'ensure_all_finite' in 1.6 and will be removed in 1.8.\n",
                        "  warnings.warn(\n"
                    ]
                },
                {
                    "name": "stdout",
                    "output_type": "stream",
                    "text": [
                        " ARIMA(2,1,1)(0,0,0)[3]             : AIC=2110.649, Time=1.19 sec\n",
                        "\n",
                        "Best model:  ARIMA(1,1,2)(0,0,0)[3]          \n",
                        "Total fit time: 97.595 seconds\n"
                    ]
                }
            ],
            "source": [
                "from pmdarima import auto_arima\n",
                "\n",
                "model = auto_arima(ts, seasonal=True, trace=True,m=3)"
            ]
        },
        {
            "cell_type": "code",
            "execution_count": 11,
            "metadata": {},
            "outputs": [
                {
                    "data": {
                        "text/html": [
                            "<table class=\"simpletable\">\n",
                            "<caption>SARIMAX Results</caption>\n",
                            "<tr>\n",
                            "  <th>Dep. Variable:</th>           <td>y</td>        <th>  No. Observations:  </th>   <td>8217</td>   \n",
                            "</tr>\n",
                            "<tr>\n",
                            "  <th>Model:</th>           <td>SARIMAX(1, 1, 2)</td> <th>  Log Likelihood     </th> <td>-1048.359</td>\n",
                            "</tr>\n",
                            "<tr>\n",
                            "  <th>Date:</th>            <td>Wed, 06 Aug 2025</td> <th>  AIC                </th> <td>2104.717</td> \n",
                            "</tr>\n",
                            "<tr>\n",
                            "  <th>Time:</th>                <td>22:17:53</td>     <th>  BIC                </th> <td>2132.773</td> \n",
                            "</tr>\n",
                            "<tr>\n",
                            "  <th>Sample:</th>             <td>01-01-1998</td>    <th>  HQIC               </th> <td>2114.308</td> \n",
                            "</tr>\n",
                            "<tr>\n",
                            "  <th></th>                   <td>- 06-30-2020</td>   <th>                     </th>     <td> </td>    \n",
                            "</tr>\n",
                            "<tr>\n",
                            "  <th>Covariance Type:</th>        <td>opg</td>       <th>                     </th>     <td> </td>    \n",
                            "</tr>\n",
                            "</table>\n",
                            "<table class=\"simpletable\">\n",
                            "<tr>\n",
                            "     <td></td>       <th>coef</th>     <th>std err</th>      <th>z</th>      <th>P>|z|</th>  <th>[0.025</th>    <th>0.975]</th>  \n",
                            "</tr>\n",
                            "<tr>\n",
                            "  <th>ar.L1</th>  <td>    0.6222</td> <td>    0.010</td> <td>   64.259</td> <td> 0.000</td> <td>    0.603</td> <td>    0.641</td>\n",
                            "</tr>\n",
                            "<tr>\n",
                            "  <th>ma.L1</th>  <td>   -0.7225</td> <td>    0.009</td> <td>  -78.190</td> <td> 0.000</td> <td>   -0.741</td> <td>   -0.704</td>\n",
                            "</tr>\n",
                            "<tr>\n",
                            "  <th>ma.L2</th>  <td>   -0.1780</td> <td>    0.006</td> <td>  -32.090</td> <td> 0.000</td> <td>   -0.189</td> <td>   -0.167</td>\n",
                            "</tr>\n",
                            "<tr>\n",
                            "  <th>sigma2</th> <td>    0.0756</td> <td>    0.000</td> <td>  297.728</td> <td> 0.000</td> <td>    0.075</td> <td>    0.076</td>\n",
                            "</tr>\n",
                            "</table>\n",
                            "<table class=\"simpletable\">\n",
                            "<tr>\n",
                            "  <th>Ljung-Box (L1) (Q):</th>     <td>0.00</td> <th>  Jarque-Bera (JB):  </th> <td>673373.56</td>\n",
                            "</tr>\n",
                            "<tr>\n",
                            "  <th>Prob(Q):</th>                <td>0.96</td> <th>  Prob(JB):          </th>   <td>0.00</td>   \n",
                            "</tr>\n",
                            "<tr>\n",
                            "  <th>Heteroskedasticity (H):</th> <td>1.48</td> <th>  Skew:              </th>   <td>4.13</td>   \n",
                            "</tr>\n",
                            "<tr>\n",
                            "  <th>Prob(H) (two-sided):</th>    <td>0.00</td> <th>  Kurtosis:          </th>   <td>46.58</td>  \n",
                            "</tr>\n",
                            "</table><br/><br/>Warnings:<br/>[1] Covariance matrix calculated using the outer product of gradients (complex-step)."
                        ],
                        "text/latex": [
                            "\\begin{center}\n",
                            "\\begin{tabular}{lclc}\n",
                            "\\toprule\n",
                            "\\textbf{Dep. Variable:}          &        y         & \\textbf{  No. Observations:  } &    8217     \\\\\n",
                            "\\textbf{Model:}                  & SARIMAX(1, 1, 2) & \\textbf{  Log Likelihood     } & -1048.359   \\\\\n",
                            "\\textbf{Date:}                   & Wed, 06 Aug 2025 & \\textbf{  AIC                } &  2104.717   \\\\\n",
                            "\\textbf{Time:}                   &     22:17:53     & \\textbf{  BIC                } &  2132.773   \\\\\n",
                            "\\textbf{Sample:}                 &    01-01-1998    & \\textbf{  HQIC               } &  2114.308   \\\\\n",
                            "\\textbf{}                        &   - 06-30-2020   & \\textbf{                     } &             \\\\\n",
                            "\\textbf{Covariance Type:}        &       opg        & \\textbf{                     } &             \\\\\n",
                            "\\bottomrule\n",
                            "\\end{tabular}\n",
                            "\\begin{tabular}{lcccccc}\n",
                            "                & \\textbf{coef} & \\textbf{std err} & \\textbf{z} & \\textbf{P$> |$z$|$} & \\textbf{[0.025} & \\textbf{0.975]}  \\\\\n",
                            "\\midrule\n",
                            "\\textbf{ar.L1}  &       0.6222  &        0.010     &    64.259  &         0.000        &        0.603    &        0.641     \\\\\n",
                            "\\textbf{ma.L1}  &      -0.7225  &        0.009     &   -78.190  &         0.000        &       -0.741    &       -0.704     \\\\\n",
                            "\\textbf{ma.L2}  &      -0.1780  &        0.006     &   -32.090  &         0.000        &       -0.189    &       -0.167     \\\\\n",
                            "\\textbf{sigma2} &       0.0756  &        0.000     &   297.728  &         0.000        &        0.075    &        0.076     \\\\\n",
                            "\\bottomrule\n",
                            "\\end{tabular}\n",
                            "\\begin{tabular}{lclc}\n",
                            "\\textbf{Ljung-Box (L1) (Q):}     & 0.00 & \\textbf{  Jarque-Bera (JB):  } & 673373.56  \\\\\n",
                            "\\textbf{Prob(Q):}                & 0.96 & \\textbf{  Prob(JB):          } &    0.00    \\\\\n",
                            "\\textbf{Heteroskedasticity (H):} & 1.48 & \\textbf{  Skew:              } &    4.13    \\\\\n",
                            "\\textbf{Prob(H) (two-sided):}    & 0.00 & \\textbf{  Kurtosis:          } &   46.58    \\\\\n",
                            "\\bottomrule\n",
                            "\\end{tabular}\n",
                            "%\\caption{SARIMAX Results}\n",
                            "\\end{center}\n",
                            "\n",
                            "Warnings: \\newline\n",
                            " [1] Covariance matrix calculated using the outer product of gradients (complex-step)."
                        ],
                        "text/plain": [
                            "<class 'statsmodels.iolib.summary.Summary'>\n",
                            "\"\"\"\n",
                            "                               SARIMAX Results                                \n",
                            "==============================================================================\n",
                            "Dep. Variable:                      y   No. Observations:                 8217\n",
                            "Model:               SARIMAX(1, 1, 2)   Log Likelihood               -1048.359\n",
                            "Date:                Wed, 06 Aug 2025   AIC                           2104.717\n",
                            "Time:                        22:17:53   BIC                           2132.773\n",
                            "Sample:                    01-01-1998   HQIC                          2114.308\n",
                            "                         - 06-30-2020                                         \n",
                            "Covariance Type:                  opg                                         \n",
                            "==============================================================================\n",
                            "                 coef    std err          z      P>|z|      [0.025      0.975]\n",
                            "------------------------------------------------------------------------------\n",
                            "ar.L1          0.6222      0.010     64.259      0.000       0.603       0.641\n",
                            "ma.L1         -0.7225      0.009    -78.190      0.000      -0.741      -0.704\n",
                            "ma.L2         -0.1780      0.006    -32.090      0.000      -0.189      -0.167\n",
                            "sigma2         0.0756      0.000    297.728      0.000       0.075       0.076\n",
                            "===================================================================================\n",
                            "Ljung-Box (L1) (Q):                   0.00   Jarque-Bera (JB):            673373.56\n",
                            "Prob(Q):                              0.96   Prob(JB):                         0.00\n",
                            "Heteroskedasticity (H):               1.48   Skew:                             4.13\n",
                            "Prob(H) (two-sided):                  0.00   Kurtosis:                        46.58\n",
                            "===================================================================================\n",
                            "\n",
                            "Warnings:\n",
                            "[1] Covariance matrix calculated using the outer product of gradients (complex-step).\n",
                            "\"\"\""
                        ]
                    },
                    "execution_count": 11,
                    "metadata": {},
                    "output_type": "execute_result"
                }
            ],
            "source": [
                "model.summary()"
            ]
        },
        {
            "cell_type": "code",
            "execution_count": 12,
            "metadata": {},
            "outputs": [
                {
                    "name": "stderr",
                    "output_type": "stream",
                    "text": [
                        "/home/vscode/.local/lib/python3.11/site-packages/sklearn/utils/deprecation.py:132: FutureWarning: 'force_all_finite' was renamed to 'ensure_all_finite' in 1.6 and will be removed in 1.8.\n",
                        "  warnings.warn(\n"
                    ]
                },
                {
                    "data": {
                        "text/plain": [
                            "2020-07-01    1.348385\n",
                            "2020-07-02    1.366374\n",
                            "2020-07-03    1.377566\n",
                            "2020-07-04    1.384529\n",
                            "2020-07-05    1.388862\n",
                            "                ...   \n",
                            "2021-06-26    1.395996\n",
                            "2021-06-27    1.395996\n",
                            "2021-06-28    1.395996\n",
                            "2021-06-29    1.395996\n",
                            "2021-06-30    1.395996\n",
                            "Freq: D, Length: 365, dtype: float64"
                        ]
                    },
                    "execution_count": 12,
                    "metadata": {},
                    "output_type": "execute_result"
                }
            ],
            "source": [
                "forecast = model.predict(n_periods=365)\n",
                "forecast"
            ]
        },
        {
            "cell_type": "code",
            "execution_count": 13,
            "metadata": {},
            "outputs": [
                {
                    "data": {
                        "image/png": "[encoded data removed]",
                        "text/plain": [
                            "<Figure size 640x480 with 1 Axes>"
                        ]
                    },
                    "metadata": {},
                    "output_type": "display_data"
                }
            ],
            "source": [
                "sns.lineplot(data=ts)\n",
                "sns.lineplot(data=forecast)\n",
                "\n",
                "plt.tight_layout()\n",
                "plt.show()"
            ]
        },
        {
            "cell_type": "code",
            "execution_count": 14,
            "metadata": {},
            "outputs": [
                {
                    "name": "stdout",
                    "output_type": "stream",
                    "text": [
                        "Defaulting to user installation because normal site-packages is not writeable\n",
                        "Collecting neuralprophet\n",
                        "  Using cached neuralprophet-0.9.0-py3-none-any.whl (145 kB)\n",
                        "Collecting captum>=0.6.0 (from neuralprophet)\n",
                        "  Using cached captum-0.8.0-py3-none-any.whl (1.4 MB)\n",
                        "Requirement already satisfied: holidays>=0.41 in /home/vscode/.local/lib/python3.11/site-packages (from neuralprophet) (0.78)\n",
                        "Requirement already satisfied: kaleido==0.2.1 in /home/vscode/.local/lib/python3.11/site-packages (from neuralprophet) (0.2.1)\n",
                        "Requirement already satisfied: matplotlib>=3.5.3 in /home/vscode/.local/lib/python3.11/site-packages (from neuralprophet) (3.10.5)\n",
                        "Requirement already satisfied: numpy<2.0.0,>=1.25.0 in /home/vscode/.local/lib/python3.11/site-packages (from neuralprophet) (1.26.4)\n",
                        "Requirement already satisfied: pandas>=2.0.0 in /home/vscode/.local/lib/python3.11/site-packages (from neuralprophet) (2.3.1)\n",
                        "Requirement already satisfied: plotly>=5.13.1 in /home/vscode/.local/lib/python3.11/site-packages (from neuralprophet) (6.2.0)\n",
                        "Collecting pytorch-lightning>=2.0.0 (from neuralprophet)\n",
                        "  Using cached pytorch_lightning-2.5.2-py3-none-any.whl (825 kB)\n",
                        "Requirement already satisfied: tensorboard>=2.11.2 in /home/vscode/.local/lib/python3.11/site-packages (from neuralprophet) (2.20.0)\n",
                        "Requirement already satisfied: torch>=2.0.0 in /home/vscode/.local/lib/python3.11/site-packages (from neuralprophet) (2.8.0)\n",
                        "Collecting torchmetrics>=1.0.0 (from neuralprophet)\n",
                        "  Using cached torchmetrics-1.8.0-py3-none-any.whl (981 kB)\n",
                        "Requirement already satisfied: typing-extensions>=4.5.0 in /home/vscode/.local/lib/python3.11/site-packages (from neuralprophet) (4.14.1)\n",
                        "Requirement already satisfied: packaging in /home/vscode/.local/lib/python3.11/site-packages (from captum>=0.6.0->neuralprophet) (25.0)\n",
                        "Requirement already satisfied: tqdm in /home/vscode/.local/lib/python3.11/site-packages (from captum>=0.6.0->neuralprophet) (4.67.1)\n",
                        "Requirement already satisfied: python-dateutil in /home/vscode/.local/lib/python3.11/site-packages (from holidays>=0.41->neuralprophet) (2.9.0.post0)\n",
                        "Requirement already satisfied: contourpy>=1.0.1 in /home/vscode/.local/lib/python3.11/site-packages (from matplotlib>=3.5.3->neuralprophet) (1.3.2)\n",
                        "Requirement already satisfied: cycler>=0.10 in /home/vscode/.local/lib/python3.11/site-packages (from matplotlib>=3.5.3->neuralprophet) (0.12.1)\n",
                        "Requirement already satisfied: fonttools>=4.22.0 in /home/vscode/.local/lib/python3.11/site-packages (from matplotlib>=3.5.3->neuralprophet) (4.59.0)\n",
                        "Requirement already satisfied: kiwisolver>=1.3.1 in /home/vscode/.local/lib/python3.11/site-packages (from matplotlib>=3.5.3->neuralprophet) (1.4.8)\n",
                        "Requirement already satisfied: pillow>=8 in /home/vscode/.local/lib/python3.11/site-packages (from matplotlib>=3.5.3->neuralprophet) (11.3.0)\n",
                        "Requirement already satisfied: pyparsing>=2.3.1 in /home/vscode/.local/lib/python3.11/site-packages (from matplotlib>=3.5.3->neuralprophet) (3.2.3)\n",
                        "Requirement already satisfied: pytz>=2020.1 in /home/vscode/.local/lib/python3.11/site-packages (from pandas>=2.0.0->neuralprophet) (2025.2)\n",
                        "Requirement already satisfied: tzdata>=2022.7 in /home/vscode/.local/lib/python3.11/site-packages (from pandas>=2.0.0->neuralprophet) (2025.2)\n",
                        "Requirement already satisfied: narwhals>=1.15.1 in /home/vscode/.local/lib/python3.11/site-packages (from plotly>=5.13.1->neuralprophet) (2.0.1)\n",
                        "Requirement already satisfied: PyYAML>=5.4 in /home/vscode/.local/lib/python3.11/site-packages (from pytorch-lightning>=2.0.0->neuralprophet) (6.0.2)\n",
                        "Requirement already satisfied: fsspec[http]>=2022.5.0 in /home/vscode/.local/lib/python3.11/site-packages (from pytorch-lightning>=2.0.0->neuralprophet) (2025.7.0)\n",
                        "Requirement already satisfied: lightning-utilities>=0.10.0 in /home/vscode/.local/lib/python3.11/site-packages (from pytorch-lightning>=2.0.0->neuralprophet) (0.15.2)\n",
                        "Requirement already satisfied: absl-py>=0.4 in /home/vscode/.local/lib/python3.11/site-packages (from tensorboard>=2.11.2->neuralprophet) (2.3.1)\n",
                        "Requirement already satisfied: grpcio>=1.48.2 in /home/vscode/.local/lib/python3.11/site-packages (from tensorboard>=2.11.2->neuralprophet) (1.74.0)\n",
                        "Requirement already satisfied: markdown>=2.6.8 in /home/vscode/.local/lib/python3.11/site-packages (from tensorboard>=2.11.2->neuralprophet) (3.8.2)\n",
                        "Requirement already satisfied: protobuf!=4.24.0,>=3.19.6 in /home/vscode/.local/lib/python3.11/site-packages (from tensorboard>=2.11.2->neuralprophet) (6.31.1)\n",
                        "Requirement already satisfied: setuptools>=41.0.0 in /usr/local/lib/python3.11/site-packages (from tensorboard>=2.11.2->neuralprophet) (67.8.0)\n",
                        "Requirement already satisfied: tensorboard-data-server<0.8.0,>=0.7.0 in /home/vscode/.local/lib/python3.11/site-packages (from tensorboard>=2.11.2->neuralprophet) (0.7.2)\n",
                        "Requirement already satisfied: werkzeug>=1.0.1 in /home/vscode/.local/lib/python3.11/site-packages (from tensorboard>=2.11.2->neuralprophet) (3.1.3)\n",
                        "Requirement already satisfied: filelock in /home/vscode/.local/lib/python3.11/site-packages (from torch>=2.0.0->neuralprophet) (3.18.0)\n",
                        "Requirement already satisfied: sympy>=1.13.3 in /home/vscode/.local/lib/python3.11/site-packages (from torch>=2.0.0->neuralprophet) (1.14.0)\n",
                        "Requirement already satisfied: networkx in /home/vscode/.local/lib/python3.11/site-packages (from torch>=2.0.0->neuralprophet) (3.5)\n",
                        "Requirement already satisfied: jinja2 in /home/vscode/.local/lib/python3.11/site-packages (from torch>=2.0.0->neuralprophet) (3.1.6)\n",
                        "Requirement already satisfied: nvidia-cuda-nvrtc-cu12==12.8.93 in /home/vscode/.local/lib/python3.11/site-packages (from torch>=2.0.0->neuralprophet) (12.8.93)\n",
                        "Requirement already satisfied: nvidia-cuda-runtime-cu12==12.8.90 in /home/vscode/.local/lib/python3.11/site-packages (from torch>=2.0.0->neuralprophet) (12.8.90)\n",
                        "Requirement already satisfied: nvidia-cuda-cupti-cu12==12.8.90 in /home/vscode/.local/lib/python3.11/site-packages (from torch>=2.0.0->neuralprophet) (12.8.90)\n",
                        "Requirement already satisfied: nvidia-cudnn-cu12==9.10.2.21 in /home/vscode/.local/lib/python3.11/site-packages (from torch>=2.0.0->neuralprophet) (9.10.2.21)\n",
                        "Requirement already satisfied: nvidia-cublas-cu12==12.8.4.1 in /home/vscode/.local/lib/python3.11/site-packages (from torch>=2.0.0->neuralprophet) (12.8.4.1)\n",
                        "Requirement already satisfied: nvidia-cufft-cu12==11.3.3.83 in /home/vscode/.local/lib/python3.11/site-packages (from torch>=2.0.0->neuralprophet) (11.3.3.83)\n",
                        "Requirement already satisfied: nvidia-curand-cu12==10.3.9.90 in /home/vscode/.local/lib/python3.11/site-packages (from torch>=2.0.0->neuralprophet) (10.3.9.90)\n",
                        "Requirement already satisfied: nvidia-cusolver-cu12==11.7.3.90 in /home/vscode/.local/lib/python3.11/site-packages (from torch>=2.0.0->neuralprophet) (11.7.3.90)\n",
                        "Requirement already satisfied: nvidia-cusparse-cu12==12.5.8.93 in /home/vscode/.local/lib/python3.11/site-packages (from torch>=2.0.0->neuralprophet) (12.5.8.93)\n",
                        "Requirement already satisfied: nvidia-cusparselt-cu12==0.7.1 in /home/vscode/.local/lib/python3.11/site-packages (from torch>=2.0.0->neuralprophet) (0.7.1)\n",
                        "Requirement already satisfied: nvidia-nccl-cu12==2.27.3 in /home/vscode/.local/lib/python3.11/site-packages (from torch>=2.0.0->neuralprophet) (2.27.3)\n",
                        "Requirement already satisfied: nvidia-nvtx-cu12==12.8.90 in /home/vscode/.local/lib/python3.11/site-packages (from torch>=2.0.0->neuralprophet) (12.8.90)\n",
                        "Requirement already satisfied: nvidia-nvjitlink-cu12==12.8.93 in /home/vscode/.local/lib/python3.11/site-packages (from torch>=2.0.0->neuralprophet) (12.8.93)\n",
                        "Requirement already satisfied: nvidia-cufile-cu12==1.13.1.3 in /home/vscode/.local/lib/python3.11/site-packages (from torch>=2.0.0->neuralprophet) (1.13.1.3)\n",
                        "Requirement already satisfied: triton==3.4.0 in /home/vscode/.local/lib/python3.11/site-packages (from torch>=2.0.0->neuralprophet) (3.4.0)\n",
                        "Requirement already satisfied: aiohttp!=4.0.0a0,!=4.0.0a1 in /home/vscode/.local/lib/python3.11/site-packages (from fsspec[http]>=2022.5.0->pytorch-lightning>=2.0.0->neuralprophet) (3.12.15)\n",
                        "Requirement already satisfied: six>=1.5 in /home/vscode/.local/lib/python3.11/site-packages (from python-dateutil->holidays>=0.41->neuralprophet) (1.17.0)\n",
                        "Requirement already satisfied: mpmath<1.4,>=1.1.0 in /home/vscode/.local/lib/python3.11/site-packages (from sympy>=1.13.3->torch>=2.0.0->neuralprophet) (1.3.0)\n",
                        "Requirement already satisfied: MarkupSafe>=2.1.1 in /home/vscode/.local/lib/python3.11/site-packages (from werkzeug>=1.0.1->tensorboard>=2.11.2->neuralprophet) (3.0.2)\n",
                        "Requirement already satisfied: aiohappyeyeballs>=2.5.0 in /home/vscode/.local/lib/python3.11/site-packages (from aiohttp!=4.0.0a0,!=4.0.0a1->fsspec[http]>=2022.5.0->pytorch-lightning>=2.0.0->neuralprophet) (2.6.1)\n",
                        "Requirement already satisfied: aiosignal>=1.4.0 in /home/vscode/.local/lib/python3.11/site-packages (from aiohttp!=4.0.0a0,!=4.0.0a1->fsspec[http]>=2022.5.0->pytorch-lightning>=2.0.0->neuralprophet) (1.4.0)\n",
                        "Requirement already satisfied: attrs>=17.3.0 in /home/vscode/.local/lib/python3.11/site-packages (from aiohttp!=4.0.0a0,!=4.0.0a1->fsspec[http]>=2022.5.0->pytorch-lightning>=2.0.0->neuralprophet) (25.3.0)\n",
                        "Requirement already satisfied: frozenlist>=1.1.1 in /home/vscode/.local/lib/python3.11/site-packages (from aiohttp!=4.0.0a0,!=4.0.0a1->fsspec[http]>=2022.5.0->pytorch-lightning>=2.0.0->neuralprophet) (1.7.0)\n",
                        "Requirement already satisfied: multidict<7.0,>=4.5 in /home/vscode/.local/lib/python3.11/site-packages (from aiohttp!=4.0.0a0,!=4.0.0a1->fsspec[http]>=2022.5.0->pytorch-lightning>=2.0.0->neuralprophet) (6.6.3)\n",
                        "Requirement already satisfied: propcache>=0.2.0 in /home/vscode/.local/lib/python3.11/site-packages (from aiohttp!=4.0.0a0,!=4.0.0a1->fsspec[http]>=2022.5.0->pytorch-lightning>=2.0.0->neuralprophet) (0.3.2)\n",
                        "Requirement already satisfied: yarl<2.0,>=1.17.0 in /home/vscode/.local/lib/python3.11/site-packages (from aiohttp!=4.0.0a0,!=4.0.0a1->fsspec[http]>=2022.5.0->pytorch-lightning>=2.0.0->neuralprophet) (1.20.1)\n",
                        "Requirement already satisfied: idna>=2.0 in /home/vscode/.local/lib/python3.11/site-packages (from yarl<2.0,>=1.17.0->aiohttp!=4.0.0a0,!=4.0.0a1->fsspec[http]>=2022.5.0->pytorch-lightning>=2.0.0->neuralprophet) (3.10)\n",
                        "Installing collected packages: torchmetrics, captum, pytorch-lightning, neuralprophet\n",
                        "Successfully installed captum-0.8.0 neuralprophet-0.9.0 pytorch-lightning-2.5.2 torchmetrics-1.8.0\n",
                        "\n",
                        "\u001b[1m[\u001b[0m\u001b[34;49mnotice\u001b[0m\u001b[1;39;49m]\u001b[0m\u001b[39;49m A new release of pip is available: \u001b[0m\u001b[31;49m23.1.2\u001b[0m\u001b[39;49m -> \u001b[0m\u001b[32;49m25.2\u001b[0m\n",
                        "\u001b[1m[\u001b[0m\u001b[34;49mnotice\u001b[0m\u001b[1;39;49m]\u001b[0m\u001b[39;49m To update, run: \u001b[0m\u001b[32;49mpip install --upgrade pip\u001b[0m\n"
                    ]
                }
            ],
            "source": [
                "!pip install neuralprophet"
            ]
        },
        {
            "cell_type": "code",
            "execution_count": 15,
            "metadata": {},
            "outputs": [
                {
                    "data": {
                        "text/html": [
                            "<div>\n",
                            "<style scoped>\n",
                            "    .dataframe tbody tr th:only-of-type {\n",
                            "        vertical-align: middle;\n",
                            "    }\n",
                            "\n",
                            "    .dataframe tbody tr th {\n",
                            "        vertical-align: top;\n",
                            "    }\n",
                            "\n",
                            "    .dataframe thead th {\n",
                            "        text-align: right;\n",
                            "    }\n",
                            "</style>\n",
                            "<table border=\"1\" class=\"dataframe\">\n",
                            "  <thead>\n",
                            "    <tr style=\"text-align: right;\">\n",
                            "      <th></th>\n",
                            "      <th>Date</th>\n",
                            "      <th>Hyd</th>\n",
                            "    </tr>\n",
                            "  </thead>\n",
                            "  <tbody>\n",
                            "    <tr>\n",
                            "      <th>0</th>\n",
                            "      <td>1998-01-01</td>\n",
                            "      <td>1.82</td>\n",
                            "    </tr>\n",
                            "    <tr>\n",
                            "      <th>1</th>\n",
                            "      <td>1998-01-02</td>\n",
                            "      <td>1.94</td>\n",
                            "    </tr>\n",
                            "    <tr>\n",
                            "      <th>2</th>\n",
                            "      <td>1998-01-03</td>\n",
                            "      <td>2.11</td>\n",
                            "    </tr>\n",
                            "    <tr>\n",
                            "      <th>3</th>\n",
                            "      <td>1998-01-04</td>\n",
                            "      <td>1.84</td>\n",
                            "    </tr>\n",
                            "    <tr>\n",
                            "      <th>4</th>\n",
                            "      <td>1998-01-05</td>\n",
                            "      <td>1.88</td>\n",
                            "    </tr>\n",
                            "    <tr>\n",
                            "      <th>...</th>\n",
                            "      <td>...</td>\n",
                            "      <td>...</td>\n",
                            "    </tr>\n",
                            "    <tr>\n",
                            "      <th>8212</th>\n",
                            "      <td>2020-06-26</td>\n",
                            "      <td>1.34</td>\n",
                            "    </tr>\n",
                            "    <tr>\n",
                            "      <th>8213</th>\n",
                            "      <td>2020-06-27</td>\n",
                            "      <td>1.21</td>\n",
                            "    </tr>\n",
                            "    <tr>\n",
                            "      <th>8214</th>\n",
                            "      <td>2020-06-28</td>\n",
                            "      <td>1.30</td>\n",
                            "    </tr>\n",
                            "    <tr>\n",
                            "      <th>8215</th>\n",
                            "      <td>2020-06-29</td>\n",
                            "      <td>1.19</td>\n",
                            "    </tr>\n",
                            "    <tr>\n",
                            "      <th>8216</th>\n",
                            "      <td>2020-06-30</td>\n",
                            "      <td>1.30</td>\n",
                            "    </tr>\n",
                            "  </tbody>\n",
                            "</table>\n",
                            "<p>8217 rows × 2 columns</p>\n",
                            "</div>"
                        ],
                        "text/plain": [
                            "           Date   Hyd\n",
                            "0    1998-01-01  1.82\n",
                            "1    1998-01-02  1.94\n",
                            "2    1998-01-03  2.11\n",
                            "3    1998-01-04  1.84\n",
                            "4    1998-01-05  1.88\n",
                            "...         ...   ...\n",
                            "8212 2020-06-26  1.34\n",
                            "8213 2020-06-27  1.21\n",
                            "8214 2020-06-28  1.30\n",
                            "8215 2020-06-29  1.19\n",
                            "8216 2020-06-30  1.30\n",
                            "\n",
                            "[8217 rows x 2 columns]"
                        ]
                    },
                    "execution_count": 15,
                    "metadata": {},
                    "output_type": "execute_result"
                }
            ],
            "source": [
                "ts_np = ts.reset_index()\n",
                "\n",
                "ts_np"
            ]
        },
        {
            "cell_type": "code",
            "execution_count": 16,
            "metadata": {},
            "outputs": [],
            "source": [
                "ts_np.rename(columns={'Date':'ds','Hyd':'y'},inplace=True)"
            ]
        },
        {
            "cell_type": "code",
            "execution_count": 17,
            "metadata": {},
            "outputs": [
                {
                    "name": "stderr",
                    "output_type": "stream",
                    "text": [
                        "Importing plotly failed. Interactive plots will not work.\n",
                        "Importing plotly failed. Interactive plots will not work.\n",
                        "WARNING - (NP.forecaster.fit) - When Global modeling with local normalization, metrics are displayed in normalized scale.\n",
                        "WARNING - (py.warnings._showwarnmsg) - /home/vscode/.local/lib/python3.11/site-packages/neuralprophet/df_utils.py:464: FutureWarning: DataFrameGroupBy.apply operated on the grouping columns. This behavior is deprecated, and in a future version of pandas the grouping columns will be excluded from the operation. Either pass `include_groups=False` to exclude the groupings or explicitly select the grouping columns after groupby to silence this warning.\n",
                        "  if df.groupby(\"ID\").apply(lambda x: x.duplicated(\"ds\").any()).any():\n",
                        "\n",
                        "WARNING - (py.warnings._showwarnmsg) - /home/vscode/.local/lib/python3.11/site-packages/neuralprophet/df_utils.py:1152: FutureWarning: Series.view is deprecated and will be removed in a future version. Use ``astype`` as an alternative to change the dtype.\n",
                        "  converted_ds = pd.to_datetime(ds_col, utc=True).view(dtype=np.int64)\n",
                        "\n",
                        "INFO - (NP.df_utils._infer_frequency) - Major frequency D corresponds to 99.988% of the data.\n",
                        "WARNING - (py.warnings._showwarnmsg) - /home/vscode/.local/lib/python3.11/site-packages/neuralprophet/df_utils.py:1152: FutureWarning: Series.view is deprecated and will be removed in a future version. Use ``astype`` as an alternative to change the dtype.\n",
                        "  converted_ds = pd.to_datetime(ds_col, utc=True).view(dtype=np.int64)\n",
                        "\n",
                        "WARNING - (py.warnings._showwarnmsg) - /home/vscode/.local/lib/python3.11/site-packages/neuralprophet/df_utils.py:1152: FutureWarning: Series.view is deprecated and will be removed in a future version. Use ``astype`` as an alternative to change the dtype.\n",
                        "  converted_ds = pd.to_datetime(ds_col, utc=True).view(dtype=np.int64)\n",
                        "\n",
                        "INFO - (NP.df_utils._infer_frequency) - Defined frequency is equal to major frequency - D\n",
                        "INFO - (NP.config.init_data_params) - Setting normalization to global as only one dataframe provided for training.\n",
                        "INFO - (NP.utils.set_auto_seasonalities) - Disabling daily seasonality. Run NeuralProphet with daily_seasonality=True to override this.\n",
                        "INFO - (NP.config.set_auto_batch_epoch) - Auto-set batch_size to 64\n",
                        "INFO - (NP.config.set_auto_batch_epoch) - Auto-set epochs to 60\n"
                    ]
                },
                {
                    "data": {
                        "application/vnd.jupyter.widget-view+json": {
                            "model_id": "72b9f1540b2f4ac886b72e27f5f393c6",
                            "version_major": 2,
                            "version_minor": 0
                        },
                        "text/plain": [
                            "Training: |          | 0/? [00:00<?, ?it/s]"
                        ]
                    },
                    "metadata": {},
                    "output_type": "display_data"
                },
                {
                    "name": "stderr",
                    "output_type": "stream",
                    "text": [
                        "WARNING - (NP.config.set_lr_finder_args) - Learning rate finder: The number of batches (129) is too small than the required number                     for the learning rate finder (247). The results might not be optimal.\n"
                    ]
                },
                {
                    "data": {
                        "application/vnd.jupyter.widget-view+json": {
                            "model_id": "81b199f15a1b41278e15498d287fa878",
                            "version_major": 2,
                            "version_minor": 0
                        },
                        "text/plain": [
                            "Finding best initial lr:   0%|          | 0/247 [00:00<?, ?it/s]"
                        ]
                    },
                    "metadata": {},
                    "output_type": "display_data"
                },
                {
                    "name": "stderr",
                    "output_type": "stream",
                    "text": [
                        "WARNING - (py.warnings._showwarnmsg) - /home/vscode/.local/lib/python3.11/site-packages/pytorch_lightning/utilities/data.py:79: Trying to infer the `batch_size` from an ambiguous collection. The batch size we found is 64. To avoid any miscalculations, use `self.log(..., batch_size=batch_size)`.\n",
                        "\n",
                        "WARNING - (py.warnings._showwarnmsg) - /home/vscode/.local/lib/python3.11/site-packages/pytorch_lightning/utilities/data.py:79: Trying to infer the `batch_size` from an ambiguous collection. The batch size we found is 25. To avoid any miscalculations, use `self.log(..., batch_size=batch_size)`.\n",
                        "\n"
                    ]
                },
                {
                    "data": {
                        "application/vnd.jupyter.widget-view+json": {
                            "model_id": "bd4734d89d534c0fb8776794da952b53",
                            "version_major": 2,
                            "version_minor": 0
                        },
                        "text/plain": [
                            "Training: |          | 0/? [00:00<?, ?it/s]"
                        ]
                    },
                    "metadata": {},
                    "output_type": "display_data"
                },
                {
                    "name": "stderr",
                    "output_type": "stream",
                    "text": [
                        "WARNING - (py.warnings._showwarnmsg) - /home/vscode/.local/lib/python3.11/site-packages/neuralprophet/df_utils.py:1152: FutureWarning: Series.view is deprecated and will be removed in a future version. Use ``astype`` as an alternative to change the dtype.\n",
                        "  converted_ds = pd.to_datetime(ds_col, utc=True).view(dtype=np.int64)\n",
                        "\n",
                        "INFO - (NP.df_utils._infer_frequency) - Major frequency D corresponds to 99.988% of the data.\n",
                        "WARNING - (py.warnings._showwarnmsg) - /home/vscode/.local/lib/python3.11/site-packages/neuralprophet/df_utils.py:1152: FutureWarning: Series.view is deprecated and will be removed in a future version. Use ``astype`` as an alternative to change the dtype.\n",
                        "  converted_ds = pd.to_datetime(ds_col, utc=True).view(dtype=np.int64)\n",
                        "\n",
                        "WARNING - (py.warnings._showwarnmsg) - /home/vscode/.local/lib/python3.11/site-packages/neuralprophet/df_utils.py:1152: FutureWarning: Series.view is deprecated and will be removed in a future version. Use ``astype`` as an alternative to change the dtype.\n",
                        "  converted_ds = pd.to_datetime(ds_col, utc=True).view(dtype=np.int64)\n",
                        "\n",
                        "INFO - (NP.df_utils._infer_frequency) - Defined frequency is equal to major frequency - D\n",
                        "INFO - (NP.df_utils.return_df_in_original_format) - Returning df with no ID column\n",
                        "WARNING - (py.warnings._showwarnmsg) - /home/vscode/.local/lib/python3.11/site-packages/neuralprophet/df_utils.py:1152: FutureWarning: Series.view is deprecated and will be removed in a future version. Use ``astype`` as an alternative to change the dtype.\n",
                        "  converted_ds = pd.to_datetime(ds_col, utc=True).view(dtype=np.int64)\n",
                        "\n",
                        "INFO - (NP.df_utils._infer_frequency) - Major frequency D corresponds to 99.726% of the data.\n",
                        "WARNING - (py.warnings._showwarnmsg) - /home/vscode/.local/lib/python3.11/site-packages/neuralprophet/df_utils.py:1152: FutureWarning: Series.view is deprecated and will be removed in a future version. Use ``astype`` as an alternative to change the dtype.\n",
                        "  converted_ds = pd.to_datetime(ds_col, utc=True).view(dtype=np.int64)\n",
                        "\n",
                        "WARNING - (py.warnings._showwarnmsg) - /home/vscode/.local/lib/python3.11/site-packages/neuralprophet/df_utils.py:1152: FutureWarning: Series.view is deprecated and will be removed in a future version. Use ``astype`` as an alternative to change the dtype.\n",
                        "  converted_ds = pd.to_datetime(ds_col, utc=True).view(dtype=np.int64)\n",
                        "\n",
                        "INFO - (NP.df_utils._infer_frequency) - Defined frequency is equal to major frequency - D\n",
                        "WARNING - (py.warnings._showwarnmsg) - /home/vscode/.local/lib/python3.11/site-packages/neuralprophet/df_utils.py:1152: FutureWarning: Series.view is deprecated and will be removed in a future version. Use ``astype`` as an alternative to change the dtype.\n",
                        "  converted_ds = pd.to_datetime(ds_col, utc=True).view(dtype=np.int64)\n",
                        "\n",
                        "INFO - (NP.df_utils._infer_frequency) - Major frequency D corresponds to 99.726% of the data.\n",
                        "WARNING - (py.warnings._showwarnmsg) - /home/vscode/.local/lib/python3.11/site-packages/neuralprophet/df_utils.py:1152: FutureWarning: Series.view is deprecated and will be removed in a future version. Use ``astype`` as an alternative to change the dtype.\n",
                        "  converted_ds = pd.to_datetime(ds_col, utc=True).view(dtype=np.int64)\n",
                        "\n",
                        "WARNING - (py.warnings._showwarnmsg) - /home/vscode/.local/lib/python3.11/site-packages/neuralprophet/df_utils.py:1152: FutureWarning: Series.view is deprecated and will be removed in a future version. Use ``astype`` as an alternative to change the dtype.\n",
                        "  converted_ds = pd.to_datetime(ds_col, utc=True).view(dtype=np.int64)\n",
                        "\n",
                        "INFO - (NP.df_utils._infer_frequency) - Defined frequency is equal to major frequency - D\n",
                        "WARNING - (py.warnings._showwarnmsg) - /home/vscode/.local/lib/python3.11/site-packages/neuralprophet/df_utils.py:464: FutureWarning: DataFrameGroupBy.apply operated on the grouping columns. This behavior is deprecated, and in a future version of pandas the grouping columns will be excluded from the operation. Either pass `include_groups=False` to exclude the groupings or explicitly select the grouping columns after groupby to silence this warning.\n",
                        "  if df.groupby(\"ID\").apply(lambda x: x.duplicated(\"ds\").any()).any():\n",
                        "\n",
                        "WARNING - (py.warnings._showwarnmsg) - /home/vscode/.local/lib/python3.11/site-packages/neuralprophet/data/process.py:517: FutureWarning: DataFrameGroupBy.apply operated on the grouping columns. This behavior is deprecated, and in a future version of pandas the grouping columns will be excluded from the operation. Either pass `include_groups=False` to exclude the groupings or explicitly select the grouping columns after groupby to silence this warning.\n",
                        "  df_dropped = df.groupby(\"ID\", group_keys=False).apply(lambda x: x.loc[: last_valid_index[x.name]])\n",
                        "\n"
                    ]
                },
                {
                    "data": {
                        "application/vnd.jupyter.widget-view+json": {
                            "model_id": "5523b9ccca2e4b379c75eddddbf82771",
                            "version_major": 2,
                            "version_minor": 0
                        },
                        "text/plain": [
                            "Predicting: |          | 0/? [00:00<?, ?it/s]"
                        ]
                    },
                    "metadata": {},
                    "output_type": "display_data"
                },
                {
                    "name": "stderr",
                    "output_type": "stream",
                    "text": [
                        "INFO - (NP.df_utils.return_df_in_original_format) - Returning df with no ID column\n",
                        "ERROR - (NP.plotly.plot) - plotly-resampler is not installed. Please install it to use the resampler.\n",
                        "WARNING - (py.warnings._showwarnmsg) - /home/vscode/.local/lib/python3.11/site-packages/neuralprophet/plot_forecast_plotly.py:98: FutureWarning: Downcasting object dtype arrays on .fillna, .ffill, .bfill is deprecated and will change in a future version. Call result.infer_objects(copy=False) instead. To opt-in to the future behavior, set `pd.set_option('future.no_silent_downcasting', True)`\n",
                        "  fcst = fcst.fillna(value=np.nan)\n",
                        "\n",
                        "WARNING - (py.warnings._showwarnmsg) - /home/vscode/.local/lib/python3.11/site-packages/neuralprophet/plot_forecast_plotly.py:100: FutureWarning: The behavior of DatetimeProperties.to_pydatetime is deprecated, in a future version this will return a Series containing python datetime objects instead of an ndarray. To retain the old behavior, call `np.array` on the result\n",
                        "  ds = fcst[\"ds\"].dt.to_pydatetime()\n",
                        "\n"
                    ]
                }
            ],
            "source": [
                "from neuralprophet import NeuralProphet\n",
                "\n",
                "m = NeuralProphet()\n",
                "\n",
                "metrics = m.fit(ts_np,freq=\"D\")\n",
                "\n",
                "future = m.make_future_dataframe(ts_np,periods=365)\n",
                "\n",
                "forecast = m.predict(future)\n",
                "\n",
                "fig_forecast = m.plot(forecast)\n",
                "\n",
                "plt.show()"
            ]
        },
        {
            "cell_type": "code",
            "execution_count": 18,
            "metadata": {},
            "outputs": [
                {
                    "name": "stdout",
                    "output_type": "stream",
                    "text": [
                        "Defaulting to user installation because normal site-packages is not writeable\n",
                        "Collecting plotly-resampler\n",
                        "  Downloading plotly_resampler-0.10.0-py3-none-any.whl (80 kB)\n",
                        "\u001b[2K     \u001b[90m━━━━━━━━━━━━━━━━━━━━━━━━━━━━━━━━━━━━━━━━\u001b[0m \u001b[32m80.7/80.7 kB\u001b[0m \u001b[31m6.7 MB/s\u001b[0m eta \u001b[36m0:00:00\u001b[0m\n",
                        "\u001b[?25hCollecting dash>=2.9.0 (from plotly-resampler)\n",
                        "  Downloading dash-3.2.0-py3-none-any.whl (7.9 MB)\n",
                        "\u001b[2K     \u001b[90m━━━━━━━━━━━━━━━━━━━━━━━━━━━━━━━━━━━━━━━━\u001b[0m \u001b[32m7.9/7.9 MB\u001b[0m \u001b[31m37.5 MB/s\u001b[0m eta \u001b[36m0:00:00\u001b[0m:00:01\u001b[0m00:01\u001b[0m\n",
                        "\u001b[?25hRequirement already satisfied: numpy>=1.24 in /home/vscode/.local/lib/python3.11/site-packages (from plotly-resampler) (1.26.4)\n",
                        "Collecting orjson<4.0.0,>=3.8.0 (from plotly-resampler)\n",
                        "  Downloading orjson-3.11.1-cp311-cp311-manylinux_2_17_x86_64.manylinux2014_x86_64.whl (130 kB)\n",
                        "\u001b[2K     \u001b[90m━━━━━━━━━━━━━━━━━━━━━━━━━━━━━━━━━━━━━━\u001b[0m \u001b[32m130.9/130.9 kB\u001b[0m \u001b[31m20.8 MB/s\u001b[0m eta \u001b[36m0:00:00\u001b[0m\n",
                        "\u001b[?25hRequirement already satisfied: pandas>=1 in /home/vscode/.local/lib/python3.11/site-packages (from plotly-resampler) (2.3.1)\n",
                        "Collecting plotly<6.0.0,>=5.5.0 (from plotly-resampler)\n",
                        "  Downloading plotly-5.24.1-py3-none-any.whl (19.1 MB)\n",
                        "\u001b[2K     \u001b[90m━━━━━━━━━━━━━━━━━━━━━━━━━━━━━━━━━━━━━━━━\u001b[0m \u001b[32m19.1/19.1 MB\u001b[0m \u001b[31m20.4 MB/s\u001b[0m eta \u001b[36m0:00:00\u001b[0m00:01\u001b[0m00:01\u001b[0m\n",
                        "\u001b[?25hCollecting tsdownsample>=0.1.3 (from plotly-resampler)\n",
                        "  Downloading tsdownsample-0.1.4.1-cp311-cp311-manylinux_2_17_x86_64.manylinux2014_x86_64.whl (1.3 MB)\n",
                        "\u001b[2K     \u001b[90m━━━━━━━━━━━━━━━━━━━━━━━━━━━━━━━━━━━━━━━━\u001b[0m \u001b[32m1.3/1.3 MB\u001b[0m \u001b[31m46.5 MB/s\u001b[0m eta \u001b[36m0:00:00\u001b[0m\n",
                        "\u001b[?25hCollecting Flask<3.2,>=1.0.4 (from dash>=2.9.0->plotly-resampler)\n",
                        "  Downloading flask-3.1.1-py3-none-any.whl (103 kB)\n",
                        "\u001b[2K     \u001b[90m━━━━━━━━━━━━━━━━━━━━━━━━━━━━━━━━━━━━━━━\u001b[0m \u001b[32m103.3/103.3 kB\u001b[0m \u001b[31m8.7 MB/s\u001b[0m eta \u001b[36m0:00:00\u001b[0m\n",
                        "\u001b[?25hRequirement already satisfied: Werkzeug<3.2 in /home/vscode/.local/lib/python3.11/site-packages (from dash>=2.9.0->plotly-resampler) (3.1.3)\n",
                        "Collecting importlib-metadata (from dash>=2.9.0->plotly-resampler)\n",
                        "  Downloading importlib_metadata-8.7.0-py3-none-any.whl (27 kB)\n",
                        "Requirement already satisfied: typing-extensions>=4.1.1 in /home/vscode/.local/lib/python3.11/site-packages (from dash>=2.9.0->plotly-resampler) (4.14.1)\n",
                        "Requirement already satisfied: requests in /home/vscode/.local/lib/python3.11/site-packages (from dash>=2.9.0->plotly-resampler) (2.32.4)\n",
                        "Collecting retrying (from dash>=2.9.0->plotly-resampler)\n",
                        "  Downloading retrying-1.4.2-py3-none-any.whl (10 kB)\n",
                        "Requirement already satisfied: nest-asyncio in /home/vscode/.local/lib/python3.11/site-packages (from dash>=2.9.0->plotly-resampler) (1.6.0)\n",
                        "Requirement already satisfied: setuptools in /usr/local/lib/python3.11/site-packages (from dash>=2.9.0->plotly-resampler) (67.8.0)\n",
                        "Requirement already satisfied: python-dateutil>=2.8.2 in /home/vscode/.local/lib/python3.11/site-packages (from pandas>=1->plotly-resampler) (2.9.0.post0)\n",
                        "Requirement already satisfied: pytz>=2020.1 in /home/vscode/.local/lib/python3.11/site-packages (from pandas>=1->plotly-resampler) (2025.2)\n",
                        "Requirement already satisfied: tzdata>=2022.7 in /home/vscode/.local/lib/python3.11/site-packages (from pandas>=1->plotly-resampler) (2025.2)\n",
                        "Collecting tenacity>=6.2.0 (from plotly<6.0.0,>=5.5.0->plotly-resampler)\n",
                        "  Downloading tenacity-9.1.2-py3-none-any.whl (28 kB)\n",
                        "Requirement already satisfied: packaging in /home/vscode/.local/lib/python3.11/site-packages (from plotly<6.0.0,>=5.5.0->plotly-resampler) (25.0)\n",
                        "Collecting blinker>=1.9.0 (from Flask<3.2,>=1.0.4->dash>=2.9.0->plotly-resampler)\n",
                        "  Downloading blinker-1.9.0-py3-none-any.whl (8.5 kB)\n",
                        "Collecting click>=8.1.3 (from Flask<3.2,>=1.0.4->dash>=2.9.0->plotly-resampler)\n",
                        "  Downloading click-8.2.1-py3-none-any.whl (102 kB)\n",
                        "\u001b[2K     \u001b[90m━━━━━━━━━━━━━━━━━━━━━━━━━━━━━━━━━━━━━━\u001b[0m \u001b[32m102.2/102.2 kB\u001b[0m \u001b[31m21.5 MB/s\u001b[0m eta \u001b[36m0:00:00\u001b[0m\n",
                        "\u001b[?25hCollecting itsdangerous>=2.2.0 (from Flask<3.2,>=1.0.4->dash>=2.9.0->plotly-resampler)\n",
                        "  Downloading itsdangerous-2.2.0-py3-none-any.whl (16 kB)\n",
                        "Requirement already satisfied: jinja2>=3.1.2 in /home/vscode/.local/lib/python3.11/site-packages (from Flask<3.2,>=1.0.4->dash>=2.9.0->plotly-resampler) (3.1.6)\n",
                        "Requirement already satisfied: markupsafe>=2.1.1 in /home/vscode/.local/lib/python3.11/site-packages (from Flask<3.2,>=1.0.4->dash>=2.9.0->plotly-resampler) (3.0.2)\n",
                        "Requirement already satisfied: six>=1.5 in /home/vscode/.local/lib/python3.11/site-packages (from python-dateutil>=2.8.2->pandas>=1->plotly-resampler) (1.17.0)\n",
                        "Collecting zipp>=3.20 (from importlib-metadata->dash>=2.9.0->plotly-resampler)\n",
                        "  Downloading zipp-3.23.0-py3-none-any.whl (10 kB)\n",
                        "Requirement already satisfied: charset_normalizer<4,>=2 in /home/vscode/.local/lib/python3.11/site-packages (from requests->dash>=2.9.0->plotly-resampler) (3.4.2)\n",
                        "Requirement already satisfied: idna<4,>=2.5 in /home/vscode/.local/lib/python3.11/site-packages (from requests->dash>=2.9.0->plotly-resampler) (3.10)\n",
                        "Requirement already satisfied: urllib3<3,>=1.21.1 in /home/vscode/.local/lib/python3.11/site-packages (from requests->dash>=2.9.0->plotly-resampler) (2.5.0)\n",
                        "Requirement already satisfied: certifi>=2017.4.17 in /home/vscode/.local/lib/python3.11/site-packages (from requests->dash>=2.9.0->plotly-resampler) (2025.8.3)\n",
                        "Installing collected packages: zipp, tsdownsample, tenacity, retrying, orjson, itsdangerous, click, blinker, plotly, importlib-metadata, Flask, dash, plotly-resampler\n",
                        "  Attempting uninstall: plotly\n",
                        "    Found existing installation: plotly 6.2.0\n",
                        "    Uninstalling plotly-6.2.0:\n",
                        "      Successfully uninstalled plotly-6.2.0\n",
                        "Successfully installed Flask-3.1.1 blinker-1.9.0 click-8.2.1 dash-3.2.0 importlib-metadata-8.7.0 itsdangerous-2.2.0 orjson-3.11.1 plotly-5.24.1 plotly-resampler-0.10.0 retrying-1.4.2 tenacity-9.1.2 tsdownsample-0.1.4.1 zipp-3.23.0\n",
                        "\n",
                        "\u001b[1m[\u001b[0m\u001b[34;49mnotice\u001b[0m\u001b[1;39;49m]\u001b[0m\u001b[39;49m A new release of pip is available: \u001b[0m\u001b[31;49m23.1.2\u001b[0m\u001b[39;49m -> \u001b[0m\u001b[32;49m25.2\u001b[0m\n",
                        "\u001b[1m[\u001b[0m\u001b[34;49mnotice\u001b[0m\u001b[1;39;49m]\u001b[0m\u001b[39;49m To update, run: \u001b[0m\u001b[32;49mpip install --upgrade pip\u001b[0m\n"
                    ]
                }
            ],
            "source": [
                "!pip install plotly-resampler"
            ]
        },
        {
            "cell_type": "code",
            "execution_count": 19,
            "metadata": {},
            "outputs": [
                {
                    "name": "stderr",
                    "output_type": "stream",
                    "text": [
                        "ERROR - (NP.plotly.plot) - plotly-resampler is not installed. Please install it to use the resampler.\n",
                        "WARNING - (py.warnings._showwarnmsg) - /home/vscode/.local/lib/python3.11/site-packages/neuralprophet/plot_forecast_plotly.py:98: FutureWarning:\n",
                        "\n",
                        "Downcasting object dtype arrays on .fillna, .ffill, .bfill is deprecated and will change in a future version. Call result.infer_objects(copy=False) instead. To opt-in to the future behavior, set `pd.set_option('future.no_silent_downcasting', True)`\n",
                        "\n",
                        "\n",
                        "WARNING - (py.warnings._showwarnmsg) - /home/vscode/.local/lib/python3.11/site-packages/neuralprophet/plot_forecast_plotly.py:100: FutureWarning:\n",
                        "\n",
                        "The behavior of DatetimeProperties.to_pydatetime is deprecated, in a future version this will return a Series containing python datetime objects instead of an ndarray. To retain the old behavior, call `np.array` on the result\n",
                        "\n",
                        "\n"
                    ]
                }
            ],
            "source": [
                "fig_forecast = m.plot(forecast)\n",
                "\n"
            ]
        },
        {
            "cell_type": "code",
            "execution_count": 20,
            "metadata": {},
            "outputs": [
                {
                    "data": {
                        "text/plain": [
                            "<Axes: xlabel='Date', ylabel='yhat1'>"
                        ]
                    },
                    "execution_count": 20,
                    "metadata": {},
                    "output_type": "execute_result"
                },
                {
                    "data": {
                        "image/png": "[encoded data removed]",
                        "text/plain": [
                            "<Figure size 640x480 with 1 Axes>"
                        ]
                    },
                    "metadata": {},
                    "output_type": "display_data"
                }
            ],
            "source": [
                "forecast\n",
                "\n",
                "sns.lineplot(data=ts)\n",
                "sns.lineplot(data=forecast,x='ds',y='yhat1')"
            ]
        },
        {
            "cell_type": "markdown",
            "metadata": {},
            "source": [
                "El análisis de la serie temporal de hidrometría del río Arno permitió identificar y tratar valores nulos, así como descomponer la señal en sus componentes de tendencia y estacionalidad. Se aplicaron modelos ARIMA y NeuralProphet para el pronóstico, observando que ambos capturan adecuadamente la dinámica temporal. Sin embargo, los resultados muestran que el modelo NeuralProphet ofrece una mayor precisión en las predicciones, ajustándose mejor a los patrones observados y proporcionando estimaciones más confiables para futuros periodos."
            ]
        }
    ],
    "metadata": {
        "kernelspec": {
            "display_name": "Python 3",
            "language": "python",
            "name": "python3"
        },
        "language_info": {
            "codemirror_mode": {
                "name": "ipython",
                "version": 3
            },
            "file_extension": ".py",
            "mimetype": "text/x-python",
            "name": "python",
            "nbconvert_exporter": "python",
            "pygments_lexer": "ipython3",
            "version": "3.11.4"
        },
        "orig_nbformat": 4
    },
    "nbformat": 4,
    "nbformat_minor": 2
}
